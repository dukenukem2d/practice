{
 "nbformat": 4,
 "nbformat_minor": 2,
 "metadata": {
  "language_info": {
   "name": "python",
   "codemirror_mode": {
    "name": "ipython",
    "version": 3
   },
   "version": "3.8.2-final"
  },
  "orig_nbformat": 2,
  "file_extension": ".py",
  "mimetype": "text/x-python",
  "name": "python",
  "npconvert_exporter": "python",
  "pygments_lexer": "ipython3",
  "version": 3,
  "kernelspec": {
   "name": "python38232bit7b94a0d6392342f29aa3149ae5918eac",
   "display_name": "Python 3.8.2 32-bit"
  }
 },
 "cells": [
  {
   "cell_type": "code",
   "execution_count": 81,
   "metadata": {},
   "outputs": [],
   "source": [
    "import numpy as np\n",
    "import pandas as pd\n",
    "import scipy as sp\n",
    ""
   ]
  },
  {
   "cell_type": "code",
   "execution_count": 70,
   "metadata": {},
   "outputs": [],
   "source": [
    "Alfa = pd.DataFrame([[0, 70, 75, 95, 120], [-150, -50, -50, -50, -50], [0,0,0,0,0]],index=['CashFlowIn', 'CashFlowOut', 'CashFlow'], columns=[1,2,3,4,5])"
   ]
  },
  {
   "cell_type": "code",
   "execution_count": 71,
   "metadata": {},
   "outputs": [
    {
     "output_type": "execute_result",
     "data": {
      "text/plain": "               1   2   3   4    5\nCashFlowIn     0  70  75  95  120\nCashFlowOut -150 -50 -50 -50  -50\nCashFlow       0   0   0   0    0",
      "text/html": "<div>\n<style scoped>\n    .dataframe tbody tr th:only-of-type {\n        vertical-align: middle;\n    }\n\n    .dataframe tbody tr th {\n        vertical-align: top;\n    }\n\n    .dataframe thead th {\n        text-align: right;\n    }\n</style>\n<table border=\"1\" class=\"dataframe\">\n  <thead>\n    <tr style=\"text-align: right;\">\n      <th></th>\n      <th>1</th>\n      <th>2</th>\n      <th>3</th>\n      <th>4</th>\n      <th>5</th>\n    </tr>\n  </thead>\n  <tbody>\n    <tr>\n      <th>CashFlowIn</th>\n      <td>0</td>\n      <td>70</td>\n      <td>75</td>\n      <td>95</td>\n      <td>120</td>\n    </tr>\n    <tr>\n      <th>CashFlowOut</th>\n      <td>-150</td>\n      <td>-50</td>\n      <td>-50</td>\n      <td>-50</td>\n      <td>-50</td>\n    </tr>\n    <tr>\n      <th>CashFlow</th>\n      <td>0</td>\n      <td>0</td>\n      <td>0</td>\n      <td>0</td>\n      <td>0</td>\n    </tr>\n  </tbody>\n</table>\n</div>"
     },
     "metadata": {},
     "execution_count": 71
    }
   ],
   "source": [
    "Alfa"
   ]
  },
  {
   "cell_type": "code",
   "execution_count": 72,
   "metadata": {},
   "outputs": [],
   "source": [
    "Alfa.loc['CashFlow'] = Alfa.loc['CashFlowIn'] + Alfa.loc['CashFlowOut']"
   ]
  },
  {
   "cell_type": "code",
   "execution_count": 73,
   "metadata": {},
   "outputs": [
    {
     "output_type": "execute_result",
     "data": {
      "text/plain": "               1   2   3   4    5\nCashFlowIn     0  70  75  95  120\nCashFlowOut -150 -50 -50 -50  -50\nCashFlow    -150  20  25  45   70",
      "text/html": "<div>\n<style scoped>\n    .dataframe tbody tr th:only-of-type {\n        vertical-align: middle;\n    }\n\n    .dataframe tbody tr th {\n        vertical-align: top;\n    }\n\n    .dataframe thead th {\n        text-align: right;\n    }\n</style>\n<table border=\"1\" class=\"dataframe\">\n  <thead>\n    <tr style=\"text-align: right;\">\n      <th></th>\n      <th>1</th>\n      <th>2</th>\n      <th>3</th>\n      <th>4</th>\n      <th>5</th>\n    </tr>\n  </thead>\n  <tbody>\n    <tr>\n      <th>CashFlowIn</th>\n      <td>0</td>\n      <td>70</td>\n      <td>75</td>\n      <td>95</td>\n      <td>120</td>\n    </tr>\n    <tr>\n      <th>CashFlowOut</th>\n      <td>-150</td>\n      <td>-50</td>\n      <td>-50</td>\n      <td>-50</td>\n      <td>-50</td>\n    </tr>\n    <tr>\n      <th>CashFlow</th>\n      <td>-150</td>\n      <td>20</td>\n      <td>25</td>\n      <td>45</td>\n      <td>70</td>\n    </tr>\n  </tbody>\n</table>\n</div>"
     },
     "metadata": {},
     "execution_count": 73
    }
   ],
   "source": [
    "Alfa"
   ]
  },
  {
   "cell_type": "code",
   "execution_count": 90,
   "metadata": {},
   "outputs": [],
   "source": [
    "Total_inv = 150\n",
    "Investor_value = 150 * 0.2\n",
    "Credit = Total_inv - Investor_value"
   ]
  },
  {
   "cell_type": "code",
   "execution_count": 93,
   "metadata": {},
   "outputs": [
    {
     "output_type": "execute_result",
     "data": {
      "text/plain": "30.0"
     },
     "metadata": {},
     "execution_count": 93
    }
   ],
   "source": [
    "Investor_value"
   ]
  },
  {
   "cell_type": "code",
   "execution_count": 92,
   "metadata": {},
   "outputs": [
    {
     "output_type": "execute_result",
     "data": {
      "text/plain": "-91.552734375"
     },
     "metadata": {},
     "execution_count": 92
    }
   ],
   "source": [
    "sp.fv(0.25,5,0,Investor_value)"
   ]
  },
  {
   "cell_type": "code",
   "execution_count": 94,
   "metadata": {},
   "outputs": [
    {
     "output_type": "execute_result",
     "data": {
      "text/plain": "-241.36286249999992"
     },
     "metadata": {},
     "execution_count": 94
    }
   ],
   "source": [
    "sp.fv(0.15,5,0,Credit)"
   ]
  },
  {
   "cell_type": "code",
   "execution_count": 95,
   "metadata": {},
   "outputs": [],
   "source": [
    "CN = [-300,90,100,120,150]"
   ]
  },
  {
   "cell_type": "code",
   "execution_count": 96,
   "metadata": {},
   "outputs": [
    {
     "output_type": "execute_result",
     "data": {
      "text/plain": "18.540171025689602"
     },
     "metadata": {},
     "execution_count": 96
    }
   ],
   "source": [
    "sp.npv(0.15,CN)"
   ]
  },
  {
   "cell_type": "code",
   "execution_count": null,
   "metadata": {},
   "outputs": [],
   "source": []
  }
 ]
}